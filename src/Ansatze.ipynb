{
 "cells": [
  {
   "cell_type": "markdown",
   "metadata": {},
   "source": [
    "# Quantum Circuit Ansatze\n",
    "\n",
    "In this notebook we will go over the Quantum Circuit Ansatze that are used in this project.\n",
    "We construct 3 anzatze:\n",
    "\n",
    "    1. Hardware Efficient Ansatz\n",
    "    2. Tree Tensor Network\n",
    "    3. Multiscale Entanglement Renormalization Ansatz\n",
    "These ansatze are constructed as templates first and then applied to Hamiltonians later when constructing the final circuit."
   ]
  },
  {
   "cell_type": "code",
   "execution_count": 1,
   "metadata": {},
   "outputs": [],
   "source": [
    "import pennylane as qml\n",
    "import numpy as np\n",
    "from hea  import hea_circuit\n",
    "from ttn  import ttn_circuit\n",
    "from mera import mera_circuit, get_num_mera_gates"
   ]
  },
  {
   "cell_type": "markdown",
   "metadata": {},
   "source": [
    "## Hardware Efficient Ansatz (HEA)\n",
    "<img src=\"images/HEA.png\" alt=\"Drawing\" style=\"width: 500px;\"/>\n",
    "\n",
    "This anzatz consists of a layer of single-gate arbitrary rotations followed by a ring of CNOT gates as shown in the above figure. This is then repeated some number of times (either by a constant, logarithmically in system size, or linear in system size). "
   ]
  },
  {
   "cell_type": "code",
   "execution_count": 2,
   "metadata": {},
   "outputs": [
    {
     "name": "stdout",
     "output_type": "stream",
     "text": [
      "<Z_0> = 0.2792519540491323\n"
     ]
    }
   ],
   "source": [
    "num_qubits = 4\n",
    "hea_depth  = 2 # how many times will we repeat the layer\n",
    "num_param_sets = 3*hea_depth*num_qubits # each layer has num_qubits rotation gates, each having 3 parameters.\n",
    "hea_ansatz = hea_circuit(num_qubits)\n",
    "\n",
    "dev = qml.device('default.qubit', wires=num_qubits)\n",
    "@qml.qnode(dev)\n",
    "def hea(params):\n",
    "    hea_ansatz(params, list(range((num_qubits))))\n",
    "    return qml.expval(qml.PauliZ(0))\n",
    "\n",
    "params = np.random.uniform(low=-np.pi / 2, high=np.pi / 2, size=(num_param_sets, 3))\n",
    "\n",
    "Z_0 = hea(params)\n",
    "print(f\"<Z_0> = {Z_0}\")"
   ]
  },
  {
   "cell_type": "markdown",
   "metadata": {},
   "source": [
    "## Tree Tensor Network (TTN)\n",
    "<img src=\"images/TTN.png\" alt=\"Drawing\" style=\"width: 500px;\"/>\n",
    "\n",
    "This Ansatz resembles a binary tree for a quantum circuit. The number of gates is linear in system size, and so the number of parameters are linear in system size. In this ansatz, we have an option to have the unitaries in each layer have the same parameters, thus allowing us to reduce the total number of parameters to be logarithmic in system size. We can also choose how we want to specify our two-gate unitaries in constructing the circuit"
   ]
  },
  {
   "cell_type": "code",
   "execution_count": 3,
   "metadata": {},
   "outputs": [
    {
     "name": "stdout",
     "output_type": "stream",
     "text": [
      "<Z_0> = 0.230126058929646\n"
     ]
    }
   ],
   "source": [
    "num_qubits = 8\n",
    "two_qubit_gate = qml.templates.ArbitraryUnitary\n",
    "\n",
    "ttn_ansatz = ttn_circuit(num_qubits, two_qubit_gate, fix_layers=False)\n",
    "dev = qml.device('default.qubit', wires=num_qubits)\n",
    "\n",
    "@qml.qnode(dev)\n",
    "def ttn(params):\n",
    "    ttn_ansatz(params, num_qubits)\n",
    "    return qml.expval(qml.PauliZ(0))\n",
    "\n",
    "num_params_per_gate = 15 #arbitrary 2-gate unitary has 15 parameters\n",
    "num_gates = num_qubits - 1\n",
    "num_params = num_params_per_gate * num_gates\n",
    "params = np.pi*(np.random.rand(num_params) - 1.0)\n",
    "\n",
    "Z_0 = ttn(params)\n",
    "print(f\"<Z_0> = {Z_0}\")"
   ]
  },
  {
   "cell_type": "markdown",
   "metadata": {},
   "source": [
    "## Multiscale Entanglement Renormalization Ansatz (MERA)\n",
    "<img src=\"images/MERA.png\" alt=\"Drawing\" style=\"width: 500px;\"/>"
   ]
  },
  {
   "cell_type": "markdown",
   "metadata": {},
   "source": [
    "The MERA is similar to a tree tensor network, with the addition of unitary \"disentangelers\" between branches as shown above with the blue boxes. In our construction, we can fix the unitaries in each layer to have the same parameters, and we can choose if we want our MERA to be periodic."
   ]
  },
  {
   "cell_type": "code",
   "execution_count": 4,
   "metadata": {},
   "outputs": [
    {
     "name": "stdout",
     "output_type": "stream",
     "text": [
      "<Z_0> = -0.1779793514532204\n"
     ]
    }
   ],
   "source": [
    "num_qubits = 8\n",
    "periodic, fix_layers = True, False\n",
    "mera_ansatz = mera_circuit(num_qubits, periodic=periodic, fix_layers=fix_layers)\n",
    "dev = qml.device('default.qubit', wires=num_qubits)\n",
    "\n",
    "@qml.qnode(dev)\n",
    "def mera(params):\n",
    "    mera_ansatz(params, num_qubits)\n",
    "    return qml.expval(qml.PauliZ(0))\n",
    "\n",
    "num_params_per_gate = 15 #arbitrary 2-gate unitary has 15 parameters\n",
    "num_gates = get_num_mera_gates(num_qubits, periodic=periodic, fix_layers=fix_layers)\n",
    "num_params = num_params_per_gate * num_gates\n",
    "params = np.pi*(np.random.rand(num_params) - 1.0)\n",
    "Z_0 = mera(params)\n",
    "print(f\"<Z_0> = {Z_0}\")"
   ]
  }
 ],
 "metadata": {
  "kernelspec": {
   "display_name": "Python 3",
   "language": "python",
   "name": "python3"
  },
  "language_info": {
   "codemirror_mode": {
    "name": "ipython",
    "version": 3
   },
   "file_extension": ".py",
   "mimetype": "text/x-python",
   "name": "python",
   "nbconvert_exporter": "python",
   "pygments_lexer": "ipython3",
   "version": "3.8.6"
  }
 },
 "nbformat": 4,
 "nbformat_minor": 4
}
