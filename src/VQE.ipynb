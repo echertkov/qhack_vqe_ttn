{
 "cells": [
  {
   "cell_type": "markdown",
   "metadata": {},
   "source": [
    "# Variational Quantum Eigensolvers\n",
    "\n",
    "In this notebook, we will use a quantum circuit ansatz to find the gound state of the transverse field Ising model for N sites:\n",
    "\n",
    "$$H = -\\sum_{i=1}^{N-1}\\sigma^{z}_{i}\\sigma^{z}_{i+1} - h\\sum_{i=1}^{N}\\sigma^{x}_{i}$$\n",
    "\n",
    "where $\\sigma^{x}$ and $\\sigma^{z}$ are pauli matrices."
   ]
  },
  {
   "cell_type": "code",
   "execution_count": 10,
   "metadata": {},
   "outputs": [],
   "source": [
    "import numpy as np\n",
    "import time\n",
    "import pennylane as qml\n",
    "from ttn import ttn_circuit\n",
    "from mera import mera_circuit, get_num_mera_gates\n",
    "from hea import hea_circuit\n",
    "from hamiltonians import tfi_chain\n",
    "import matplotlib.pyplot as plt"
   ]
  },
  {
   "cell_type": "markdown",
   "metadata": {},
   "source": [
    "We'll first construct the transverse field Ising model Hamiltonian at the critical point"
   ]
  },
  {
   "cell_type": "code",
   "execution_count": 11,
   "metadata": {},
   "outputs": [],
   "source": [
    "periodic=True\n",
    "num_qubits = 8\n",
    "h = 1.0\n",
    "H = tfi_chain(num_qubits, h, periodic=periodic)\n",
    "#exact_E0 = 1.0 - 1.0/np.sin(np.pi/(2.0 * (2.0 * num_qubits + 1.0))) # for open bc\n",
    "exact_E0 = -1.281457723870752 #hardcoded for periodic and N = 8"
   ]
  },
  {
   "cell_type": "markdown",
   "metadata": {},
   "source": [
    "Next, we'll construct our three ansatze to compare with each other, starting with the tree tensor network:"
   ]
  },
  {
   "cell_type": "code",
   "execution_count": 12,
   "metadata": {},
   "outputs": [],
   "source": [
    "\n",
    "# The simulator.\n",
    "ttn_dev = qml.device('default.qubit', wires=num_qubits)\n",
    "\n",
    "# The TTN circuit.\n",
    "ttn_ansatz = ttn_circuit(num_qubits)\n",
    "\n",
    "# The circuit for computing the expectation value of H.\n",
    "ttn_cost_fn = qml.ExpvalCost(ttn_ansatz, H, ttn_dev, optimize=True)\n",
    "\n",
    "num_params_per_gate = 15                                 # The number of parameters in each two-qubit gate.\n",
    "num_gates           = num_qubits- 1                      # The number of two-qubit gates in the TTN.\n",
    "num_params          = num_params_per_gate * num_gates    # The total number of parameters in the TTN.\n",
    "\n",
    "# Initialize the parameters.\n",
    "np.random.seed(1)\n",
    "ttn_params0 = np.pi*(np.random.rand(num_params) - 1.0)\n"
   ]
  },
  {
   "cell_type": "markdown",
   "metadata": {},
   "source": [
    "Then the MERA:"
   ]
  },
  {
   "cell_type": "code",
   "execution_count": 13,
   "metadata": {},
   "outputs": [],
   "source": [
    "# The simulator.\n",
    "mera_dev = qml.device('default.qubit', wires=num_qubits)\n",
    "\n",
    "# The MERA circuit.\n",
    "mera_ansatz = mera_circuit(num_qubits, periodic=periodic)\n",
    "\n",
    "# The circuit for computing the expectation value of H.\n",
    "mera_cost_fn = qml.ExpvalCost(mera_ansatz, H, mera_dev, optimize=True)\n",
    "\n",
    "num_params_per_gate = 15                                                    # The number of parameters in each two-qubit gate.\n",
    "num_gates           = get_num_mera_gates(num_qubits, periodic=periodic)     # The number of two-qubit gates in the MERA.\n",
    "num_params          = num_params_per_gate * num_gates                       # The total number of parameters in the MERA.\n",
    "\n",
    "# Initialize the parameters.\n",
    "np.random.seed(1)\n",
    "mera_params0 = np.pi*(np.random.rand(num_params) - 1.0)"
   ]
  },
  {
   "cell_type": "markdown",
   "metadata": {},
   "source": [
    "And finally the HEA. We'll do a Linear depth ansatz here:"
   ]
  },
  {
   "cell_type": "code",
   "execution_count": 14,
   "metadata": {},
   "outputs": [],
   "source": [
    "# The simulator.\n",
    "hea_dev = qml.device('default.qubit', wires=num_qubits)\n",
    "\n",
    "# The HEA circuit.\n",
    "hea_ansatz = hea_circuit(num_qubits)\n",
    "\n",
    "# The circuit for computing the expectation value of H.\n",
    "hea_cost_fn = qml.ExpvalCost(hea_ansatz, H, hea_dev, optimize=True)\n",
    "\n",
    "hea_depth           = num_qubits                 # how many times we'll repeat the circuit\n",
    "num_gates           = hea_depth * num_qubits     # The number of rotation gates in the HEA.\n",
    "num_params          = 3*hea_depth*num_qubits     # The total number of parameters in the HEA.\n",
    "\n",
    "# Initialize the parameters.\n",
    "np.random.seed(1)\n",
    "hea_params0 = np.random.uniform(low=-np.pi / 2, high=np.pi / 2, size=(num_params, 3))"
   ]
  },
  {
   "cell_type": "markdown",
   "metadata": {},
   "source": [
    "Now we will perform the optimization via gradient descent"
   ]
  },
  {
   "cell_type": "code",
   "execution_count": 15,
   "metadata": {},
   "outputs": [],
   "source": [
    "# Optimizer parameters.\n",
    "rtol     = 1e-5\n",
    "atol     = 1e-9\n",
    "maxiter  = 100                                                                                          \n",
    "stepsize = 0.05   \n",
    "print_results = True                                                                                                        \n",
    "opt =  qml.GradientDescentOptimizer(stepsize=stepsize)  "
   ]
  },
  {
   "cell_type": "code",
   "execution_count": 16,
   "metadata": {},
   "outputs": [],
   "source": [
    "ansatz_list = [\"HEA\", \"TTN\", \"MERA\"]\n",
    "param_list = [hea_params0, ttn_params0, mera_params0]\n",
    "cost_fn_list = [hea_cost_fn, ttn_cost_fn, mera_cost_fn]"
   ]
  },
  {
   "cell_type": "markdown",
   "metadata": {},
   "source": [
    "Now we'll Perform VQE on each of these ansatze with the gradient descent optimizer."
   ]
  },
  {
   "cell_type": "code",
   "execution_count": 17,
   "metadata": {},
   "outputs": [
    {
     "name": "stdout",
     "output_type": "stream",
     "text": [
      "Ansatz HEA\n",
      "Step 1, <H>/L = -0.037572918170535256\n",
      "Step 2, <H>/L = -0.15809122606366485\n",
      "Step 3, <H>/L = -0.2680137056915365\n",
      "Step 4, <H>/L = -0.3625103992446044\n",
      "Step 5, <H>/L = -0.4428750252918934\n",
      "Step 6, <H>/L = -0.5120580943498807\n",
      "Step 7, <H>/L = -0.5723884582108916\n",
      "Step 8, <H>/L = -0.6254872103871273\n",
      "Step 9, <H>/L = -0.6725722165094424\n",
      "Step 10, <H>/L = -0.7145524523149163\n",
      "Step 11, <H>/L = -0.7521041176956156\n",
      "Step 12, <H>/L = -0.7857714766902307\n",
      "Step 13, <H>/L = -0.8160372748597089\n",
      "Step 14, <H>/L = -0.8433497356676329\n",
      "Step 15, <H>/L = -0.8681218076081\n",
      "Step 16, <H>/L = -0.890718792462947\n",
      "Step 17, <H>/L = -0.9114460028510956\n",
      "Step 18, <H>/L = -0.9305438604815996\n",
      "Step 19, <H>/L = -0.9481928987203825\n",
      "Step 20, <H>/L = -0.9645265836012593\n",
      "Step 21, <H>/L = -0.9796473767625753\n",
      "Step 22, <H>/L = -0.9936414666392983\n",
      "Step 23, <H>/L = -1.0065892848582187\n",
      "Step 24, <H>/L = -1.0185710467746134\n",
      "Step 25, <H>/L = -1.0296681506278489\n",
      "Step 26, <H>/L = -1.0399619847453836\n",
      "Step 27, <H>/L = -1.049531662349748\n",
      "Step 28, <H>/L = -1.0584517725344045\n",
      "Step 29, <H>/L = -1.066790722177167\n",
      "Step 30, <H>/L = -1.074609834921472\n",
      "Step 31, <H>/L = -1.081963128354086\n",
      "Step 32, <H>/L = -1.088897587545438\n",
      "Step 33, <H>/L = -1.0954537419309116\n",
      "Step 34, <H>/L = -1.1016663862853608\n",
      "Step 35, <H>/L = -1.1075653337567157\n",
      "Step 36, <H>/L = -1.1131761328585013\n",
      "Step 37, <H>/L = -1.1185207143049367\n",
      "Step 38, <H>/L = -1.1236179564884305\n",
      "Step 39, <H>/L = -1.1284841717453369\n",
      "Step 40, <H>/L = -1.1331335217984964\n",
      "Step 41, <H>/L = -1.137578372446787\n",
      "Step 42, <H>/L = -1.1418295968245076\n",
      "Step 43, <H>/L = -1.145896834893973\n",
      "Step 44, <H>/L = -1.1497887151575132\n",
      "Step 45, <H>/L = -1.1535130432768366\n",
      "Step 46, <H>/L = -1.1570769614354321\n",
      "Step 47, <H>/L = -1.160487081777427\n",
      "Step 48, <H>/L = -1.1637495969566054\n",
      "Step 49, <H>/L = -1.1668703706081534\n",
      "Step 50, <H>/L = -1.1698550103354872\n",
      "Step 51, <H>/L = -1.172708925557726\n",
      "Step 52, <H>/L = -1.1754373722953144\n",
      "Step 53, <H>/L = -1.1780454867062025\n",
      "Step 54, <H>/L = -1.1805383089465864\n",
      "Step 55, <H>/L = -1.182920798735549\n",
      "Step 56, <H>/L = -1.1851978438578579\n",
      "Step 57, <H>/L = -1.1873742627370971\n",
      "Step 58, <H>/L = -1.1894548021418165\n",
      "Step 59, <H>/L = -1.1914441310349777\n",
      "Step 60, <H>/L = -1.193346831528261\n",
      "Step 61, <H>/L = -1.1951673878484104\n",
      "Step 62, <H>/L = -1.1969101741555481\n",
      "Step 63, <H>/L = -1.1985794419722469\n",
      "Step 64, <H>/L = -1.2001793078869634\n",
      "Step 65, <H>/L = -1.201713742090369\n",
      "Step 66, <H>/L = -1.2031865581913541\n",
      "Step 67, <H>/L = -1.2046014046468811\n",
      "Step 68, <H>/L = -1.2059617580296926\n",
      "Step 69, <H>/L = -1.2072709182559151\n",
      "Step 70, <H>/L = -1.2085320058024371\n",
      "Step 71, <H>/L = -1.2097479608654031\n",
      "Step 72, <H>/L = -1.2109215443471637\n",
      "Step 73, <H>/L = -1.2120553405097403\n",
      "Step 74, <H>/L = -1.2131517610989193\n",
      "Step 75, <H>/L = -1.2142130507223066\n",
      "Step 76, <H>/L = -1.215241293256358\n",
      "Step 77, <H>/L = -1.2162384190591178\n",
      "Step 78, <H>/L = -1.2172062127753107\n",
      "Step 79, <H>/L = -1.2181463215362984\n",
      "Step 80, <H>/L = -1.219060263377499\n",
      "Step 81, <H>/L = -1.2199494357182155\n",
      "Step 82, <H>/L = -1.2208151237722098\n",
      "Step 83, <H>/L = -1.2216585087803615\n",
      "Step 84, <H>/L = -1.2224806759790023\n",
      "Step 85, <H>/L = -1.2232826222375324\n",
      "Step 86, <H>/L = -1.2240652633173625\n",
      "Step 87, <H>/L = -1.2248294407201121\n",
      "Step 88, <H>/L = -1.2255759281064793\n",
      "Step 89, <H>/L = -1.2263054372787487\n",
      "Step 90, <H>/L = -1.227018623728775\n",
      "Step 91, <H>/L = -1.227716091760864\n",
      "Step 92, <H>/L = -1.2283983992042073\n",
      "Step 93, <H>/L = -1.229066061733754\n",
      "Step 94, <H>/L = -1.2297195568210175\n",
      "Step 95, <H>/L = -1.2303593273380355\n",
      "Step 96, <H>/L = -1.2309857848385772\n",
      "Step 97, <H>/L = -1.2315993125407922\n",
      "Step 98, <H>/L = -1.2322002680350315\n",
      "Step 99, <H>/L = -1.2327889857399006\n",
      "Step 100, <H>/L = -1.2333657791284542\n",
      "Ansatz TTN\n",
      "Step 1, <H>/L = 0.16858463649576028\n",
      "Step 2, <H>/L = -0.0806959061762325\n",
      "Step 3, <H>/L = -0.33760337935278495\n",
      "Step 4, <H>/L = -0.5305883283949955\n",
      "Step 5, <H>/L = -0.6488472111067591\n",
      "Step 6, <H>/L = -0.7316392337136162\n",
      "Step 7, <H>/L = -0.7982819737959657\n",
      "Step 8, <H>/L = -0.8538970334523281\n",
      "Step 9, <H>/L = -0.9017592955943421\n",
      "Step 10, <H>/L = -0.9447108029195663\n",
      "Step 11, <H>/L = -0.9846117795076811\n",
      "Step 12, <H>/L = -1.0222506749457776\n",
      "Step 13, <H>/L = -1.057532680955787\n",
      "Step 14, <H>/L = -1.089813919512173\n",
      "Step 15, <H>/L = -1.1183436172400387\n",
      "Step 16, <H>/L = -1.1426656301457785\n",
      "Step 17, <H>/L = -1.1627987105013537\n",
      "Step 18, <H>/L = -1.1791628486477426\n",
      "Step 19, <H>/L = -1.1923784623639846\n",
      "Step 20, <H>/L = -1.2030827593914166\n",
      "Step 21, <H>/L = -1.2118264453882364\n",
      "Step 22, <H>/L = -1.2190425156439115\n",
      "Step 23, <H>/L = -1.2250552977717108\n",
      "Step 24, <H>/L = -1.2301037029609523\n",
      "Step 25, <H>/L = -1.2343648122787316\n",
      "Step 26, <H>/L = -1.2379727167092283\n",
      "Step 27, <H>/L = -1.2410319502680234\n",
      "Step 28, <H>/L = -1.2436264826165657\n",
      "Step 29, <H>/L = -1.2458255354882222\n",
      "Step 30, <H>/L = -1.2476872977372762\n",
      "Step 31, <H>/L = -1.2492613190239803\n",
      "Step 32, <H>/L = -1.250590101513987\n",
      "Step 33, <H>/L = -1.2517102159554367\n",
      "Step 34, <H>/L = -1.2526531379765453\n",
      "Step 35, <H>/L = -1.253445917300068\n",
      "Step 36, <H>/L = -1.2541117420808945\n",
      "Step 37, <H>/L = -1.2546704312909105\n",
      "Step 38, <H>/L = -1.2551388719424073\n",
      "Step 39, <H>/L = -1.2555314096142607\n",
      "Step 40, <H>/L = -1.2558601968331695\n",
      "Step 41, <H>/L = -1.256135502298887\n",
      "Step 42, <H>/L = -1.2563659835197223\n",
      "Step 43, <H>/L = -1.256558925472051\n",
      "Step 44, <H>/L = -1.2567204480688647\n",
      "Step 45, <H>/L = -1.2568556853576647\n",
      "Step 46, <H>/L = -1.2569689394105694\n",
      "Step 47, <H>/L = -1.2570638118131425\n",
      "Step 48, <H>/L = -1.2571433155209695\n",
      "Step 49, <H>/L = -1.2572099696579628\n",
      "Step 50, <H>/L = -1.2572658796013967\n",
      "Step 51, <H>/L = -1.2573128044551891\n",
      "Step 52, <H>/L = -1.257352213769586\n",
      "Step 53, <H>/L = -1.2573853351320177\n",
      "Step 54, <H>/L = -1.257413194037114\n",
      "Step 55, <H>/L = -1.2574366472468377\n",
      "Step 56, <H>/L = -1.2574564106757697\n",
      "Step 57, <H>/L = -1.2574730826818286\n",
      "Step 58, <H>/L = -1.2574871635077896\n",
      "Step 59, <H>/L = -1.2574990715026755\n",
      "Took 59 steps.\n",
      "diff_obj = 9.526395908743268e-05, rel_obj = 9.469675104047552e-06.\n",
      "Ansatz MERA\n",
      "Step 1, <H>/L = 0.1645429768509346\n",
      "Step 2, <H>/L = -0.009808414689015846\n",
      "Step 3, <H>/L = -0.15696691113324956\n",
      "Step 4, <H>/L = -0.3223462811818586\n",
      "Step 5, <H>/L = -0.49069639261756554\n",
      "Step 6, <H>/L = -0.6266490940233886\n",
      "Step 7, <H>/L = -0.73420460917643\n",
      "Step 8, <H>/L = -0.8236359946285705\n",
      "Step 9, <H>/L = -0.8963552480209754\n",
      "Step 10, <H>/L = -0.9534781636030251\n",
      "Step 11, <H>/L = -0.9979247712132755\n",
      "Step 12, <H>/L = -1.0330335564483908\n",
      "Step 13, <H>/L = -1.0614985621607826\n",
      "Step 14, <H>/L = -1.0851898710314\n",
      "Step 15, <H>/L = -1.1053511577642212\n",
      "Step 16, <H>/L = -1.1228210507469703\n",
      "Step 17, <H>/L = -1.1381825255297788\n",
      "Step 18, <H>/L = -1.151848657207334\n",
      "Step 19, <H>/L = -1.1641110879882974\n",
      "Step 20, <H>/L = -1.1751707663182884\n",
      "Step 21, <H>/L = -1.185161490155656\n",
      "Step 22, <H>/L = -1.1941705734388501\n",
      "Step 23, <H>/L = -1.2022574242212727\n",
      "Step 24, <H>/L = -1.2094691554582875\n",
      "Step 25, <H>/L = -1.215852013645415\n",
      "Step 26, <H>/L = -1.2214579862452184\n",
      "Step 27, <H>/L = -1.226346917429615\n",
      "Step 28, <H>/L = -1.2305852871540726\n",
      "Step 29, <H>/L = -1.2342431593624494\n",
      "Step 30, <H>/L = -1.2373906607162253\n",
      "Step 31, <H>/L = -1.2400949128703194\n",
      "Step 32, <H>/L = -1.242417854034113\n",
      "Step 33, <H>/L = -1.2444150107668372\n",
      "Step 34, <H>/L = -1.2461350682297474\n",
      "Step 35, <H>/L = -1.247620010855055\n",
      "Step 36, <H>/L = -1.2489056135705572\n",
      "Step 37, <H>/L = -1.2500221095875514\n",
      "Step 38, <H>/L = -1.2509949141052839\n",
      "Step 39, <H>/L = -1.2518453293422547\n",
      "Step 40, <H>/L = -1.2525911904632334\n",
      "Step 41, <H>/L = -1.253247434792314\n",
      "Step 42, <H>/L = -1.253826590647586\n",
      "Step 43, <H>/L = -1.2543391898672247\n",
      "Step 44, <H>/L = -1.2547941118216155\n",
      "Step 45, <H>/L = -1.2551988680145532\n",
      "Step 46, <H>/L = -1.255559836333565\n",
      "Step 47, <H>/L = -1.25588245328294\n",
      "Step 48, <H>/L = -1.2561713715213152\n",
      "Step 49, <H>/L = -1.256430588952564\n",
      "Step 50, <H>/L = -1.256663554600978\n",
      "Step 51, <H>/L = -1.2568732555921729\n",
      "Step 52, <H>/L = -1.2570622887778677\n",
      "Step 53, <H>/L = -1.2572329198831524\n",
      "Step 54, <H>/L = -1.2573871325089825\n",
      "Step 55, <H>/L = -1.2575266688754503\n",
      "Step 56, <H>/L = -1.2576530638278858\n",
      "Step 57, <H>/L = -1.257767673334012\n",
      "Step 58, <H>/L = -1.257871698463791\n",
      "Step 59, <H>/L = -1.2579662056532057\n",
      "Step 60, <H>/L = -1.2580521439005958\n",
      "Step 61, <H>/L = -1.2581303594216569\n",
      "Step 62, <H>/L = -1.2582016081906\n"
     ]
    },
    {
     "name": "stdout",
     "output_type": "stream",
     "text": [
      "Step 63, <H>/L = -1.258266566716258\n",
      "Step 64, <H>/L = -1.2583258413380762\n",
      "Step 65, <H>/L = -1.2583799762758785\n",
      "Step 66, <H>/L = -1.2584294606258328\n",
      "Step 67, <H>/L = -1.2584747344616933\n",
      "Step 68, <H>/L = -1.2585161941731458\n",
      "Step 69, <H>/L = -1.258554197151056\n",
      "Step 70, <H>/L = -1.2585890659114207\n",
      "Step 71, <H>/L = -1.2586210917350258\n",
      "Step 72, <H>/L = -1.2586505378877293\n",
      "Step 73, <H>/L = -1.2586776424763007\n",
      "Step 74, <H>/L = -1.2587026209865182\n",
      "Step 75, <H>/L = -1.2587256685432666\n",
      "Step 76, <H>/L = -1.2587469619268394\n",
      "Step 77, <H>/L = -1.2587666613746407\n",
      "Step 78, <H>/L = -1.2587849121936903\n",
      "Step 79, <H>/L = -1.2588018462057746\n",
      "Step 80, <H>/L = -1.258817583044253\n",
      "Step 81, <H>/L = -1.2588322313192286\n",
      "Step 82, <H>/L = -1.258845889665439\n",
      "Step 83, <H>/L = -1.258858647685731\n",
      "Step 84, <H>/L = -1.2588705868011698\n",
      "Took 84 steps.\n",
      "diff_obj = 9.551292350984397e-05, rel_obj = 9.48407945616389e-06.\n"
     ]
    }
   ],
   "source": [
    "# Perform VQE.\n",
    "times_opts = []\n",
    "objs_opts  = []\n",
    "for (ansatz_name, params0, cost_fn) in zip(ansatz_list, param_list, cost_fn_list):\n",
    "    times = []\n",
    "    objs  = []\n",
    "\n",
    "    print(f\"Ansatz {ansatz_name}\")\n",
    "    params   = np.copy(params0)\n",
    "    prev_obj = 0.0\n",
    "    for step in range(maxiter):\n",
    "        start = time.time()\n",
    "        params, obj  = opt.step_and_cost(cost_fn, params)\n",
    "        end   = time.time()\n",
    "\n",
    "        times.append(end - start)\n",
    "        objs.append(obj)\n",
    "\n",
    "        diff_obj     = np.abs(prev_obj - obj)\n",
    "        rel_obj      = diff_obj/np.abs(prev_obj + 1e-15)\n",
    "\n",
    "        prev_obj = obj\n",
    "\n",
    "        if print_results:\n",
    "            print(f\"Step {step+1}, <H>/L = {obj/num_qubits}\")\n",
    "\n",
    "        if rel_obj < rtol or diff_obj < atol:\n",
    "            if print_results:\n",
    "                print(f\"Took {step+1} steps.\")\n",
    "                print(f\"diff_obj = {diff_obj}, rel_obj = {rel_obj}.\")\n",
    "            break\n",
    "\n",
    "    times_opts.append(times)\n",
    "    objs_opts.append(objs)"
   ]
  },
  {
   "cell_type": "markdown",
   "metadata": {},
   "source": [
    "Our first comparison will be the iteration time for each ansatz"
   ]
  },
  {
   "cell_type": "code",
   "execution_count": 18,
   "metadata": {},
   "outputs": [
    {
     "data": {
      "image/png": "[encoded data removed]",
      "text/plain": [
       "<Figure size 432x288 with 1 Axes>"
      ]
     },
     "metadata": {
      "needs_background": "light"
     },
     "output_type": "display_data"
    }
   ],
   "source": [
    "markersize = 4\n",
    "\n",
    "plt.figure()\n",
    "for (times, ansatz_name) in zip(times_opts, ansatz_list):\n",
    "    plt.plot(np.cumsum(np.array(times)), \"o-\", label=ansatz_name, markersize=markersize)\n",
    "\n",
    "plt.xlabel(\"Iteration\")\n",
    "plt.ylabel(\"Cumulative time\")\n",
    "plt.legend()\n",
    "plt.grid()\n"
   ]
  },
  {
   "cell_type": "markdown",
   "metadata": {},
   "source": [
    "Next, we'll look at how well each ansatz converged vs. iteration"
   ]
  },
  {
   "cell_type": "code",
   "execution_count": 24,
   "metadata": {},
   "outputs": [
    {
     "data": {
      "image/png": "[encoded data removed]",
      "text/plain": [
       "<Figure size 432x288 with 1 Axes>"
      ]
     },
     "metadata": {
      "needs_background": "light"
     },
     "output_type": "display_data"
    }
   ],
   "source": [
    "plt.figure()\n",
    "for (objs, ansatz_name) in zip(objs_opts, ansatz_list):\n",
    "    plt.semilogy(np.array(objs)/num_qubits-exact_E0, \"o-\", label=ansatz_name, markersize=markersize)\n",
    "#plt.axhline(exact_E0/num_qubits, ls=\"--\", color=\"k\")\n",
    "plt.xlabel(\"Iteration\")\n",
    "plt.ylabel(\"$\\\\langle H \\\\rangle / L - E_{0}$\")\n",
    "plt.legend()\n",
    "plt.grid()"
   ]
  },
  {
   "cell_type": "markdown",
   "metadata": {},
   "source": [
    "Finally, we'll look at how the error decreased over the computational time"
   ]
  },
  {
   "cell_type": "code",
   "execution_count": 26,
   "metadata": {},
   "outputs": [
    {
     "data": {
      "image/png": "[encoded data removed]",
      "text/plain": [
       "<Figure size 432x288 with 1 Axes>"
      ]
     },
     "metadata": {
      "needs_background": "light"
     },
     "output_type": "display_data"
    }
   ],
   "source": [
    "plt.figure()\n",
    "for (times, objs, ansatz_name) in zip(times_opts, objs_opts, ansatz_list):\n",
    "    plt.loglog(np.cumsum(np.array(times)), np.array(objs)/num_qubits-exact_E0, \"o-\", label=ansatz_name, markersize=markersize)\n",
    "\n",
    "#plt.axhline(exact_E0/num_qubits, ls=\"--\", color=\"k\")\n",
    "plt.xlabel(\"Cumulative time\")\n",
    "plt.ylabel(\"$\\\\langle H \\\\rangle / L - E_{0}$\")\n",
    "plt.legend()\n",
    "plt.grid()"
   ]
  }
 ],
 "metadata": {
  "kernelspec": {
   "display_name": "Python 3",
   "language": "python",
   "name": "python3"
  },
  "language_info": {
   "codemirror_mode": {
    "name": "ipython",
    "version": 3
   },
   "file_extension": ".py",
   "mimetype": "text/x-python",
   "name": "python",
   "nbconvert_exporter": "python",
   "pygments_lexer": "ipython3",
   "version": "3.8.6"
  }
 },
 "nbformat": 4,
 "nbformat_minor": 4
}
